{
 "cells": [
  {
   "cell_type": "code",
   "execution_count": 1,
   "id": "55e8968a",
   "metadata": {},
   "outputs": [
    {
     "name": "stdout",
     "output_type": "stream",
     "text": [
      "Requirement already satisfied: happytransformer in c:\\users\\t\\anaconda3\\lib\\site-packages (2.4.1)\n",
      "Requirement already satisfied: torch>=1.0 in c:\\users\\t\\anaconda3\\lib\\site-packages (from happytransformer) (1.13.1)\n",
      "Requirement already satisfied: protobuf in c:\\users\\t\\anaconda3\\lib\\site-packages (from happytransformer) (4.22.1)\n",
      "Requirement already satisfied: transformers>=4.4.0 in c:\\users\\t\\anaconda3\\lib\\site-packages (from happytransformer) (4.26.1)\n",
      "Requirement already satisfied: datasets>=1.6.0 in c:\\users\\t\\anaconda3\\lib\\site-packages (from happytransformer) (2.10.1)\n",
      "Requirement already satisfied: sentencepiece in c:\\users\\t\\anaconda3\\lib\\site-packages (from happytransformer) (0.1.97)\n",
      "Requirement already satisfied: tqdm>=4.43 in c:\\users\\t\\anaconda3\\lib\\site-packages (from happytransformer) (4.64.1)\n",
      "Requirement already satisfied: pyyaml>=5.1 in c:\\users\\t\\anaconda3\\lib\\site-packages (from datasets>=1.6.0->happytransformer) (6.0)\n",
      "Requirement already satisfied: pyarrow>=6.0.0 in c:\\users\\t\\anaconda3\\lib\\site-packages (from datasets>=1.6.0->happytransformer) (11.0.0)\n",
      "Requirement already satisfied: dill<0.3.7,>=0.3.0 in c:\\users\\t\\anaconda3\\lib\\site-packages (from datasets>=1.6.0->happytransformer) (0.3.6)\n",
      "Requirement already satisfied: multiprocess in c:\\users\\t\\anaconda3\\lib\\site-packages (from datasets>=1.6.0->happytransformer) (0.70.14)\n",
      "Requirement already satisfied: numpy>=1.17 in c:\\users\\t\\anaconda3\\lib\\site-packages (from datasets>=1.6.0->happytransformer) (1.21.5)\n",
      "Requirement already satisfied: packaging in c:\\users\\t\\anaconda3\\lib\\site-packages (from datasets>=1.6.0->happytransformer) (21.3)\n",
      "Requirement already satisfied: responses<0.19 in c:\\users\\t\\anaconda3\\lib\\site-packages (from datasets>=1.6.0->happytransformer) (0.18.0)\n",
      "Requirement already satisfied: pandas in c:\\users\\t\\anaconda3\\lib\\site-packages (from datasets>=1.6.0->happytransformer) (1.4.4)\n",
      "Requirement already satisfied: xxhash in c:\\users\\t\\anaconda3\\lib\\site-packages (from datasets>=1.6.0->happytransformer) (3.2.0)\n",
      "Requirement already satisfied: fsspec[http]>=2021.11.1 in c:\\users\\t\\anaconda3\\lib\\site-packages (from datasets>=1.6.0->happytransformer) (2022.7.1)\n",
      "Requirement already satisfied: requests>=2.19.0 in c:\\users\\t\\anaconda3\\lib\\site-packages (from datasets>=1.6.0->happytransformer) (2.28.1)\n",
      "Requirement already satisfied: aiohttp in c:\\users\\t\\anaconda3\\lib\\site-packages (from datasets>=1.6.0->happytransformer) (3.8.4)\n",
      "Requirement already satisfied: huggingface-hub<1.0.0,>=0.2.0 in c:\\users\\t\\anaconda3\\lib\\site-packages (from datasets>=1.6.0->happytransformer) (0.13.0)\n",
      "Requirement already satisfied: typing-extensions in c:\\users\\t\\anaconda3\\lib\\site-packages (from torch>=1.0->happytransformer) (4.3.0)\n",
      "Requirement already satisfied: colorama in c:\\users\\t\\anaconda3\\lib\\site-packages (from tqdm>=4.43->happytransformer) (0.4.5)\n",
      "Requirement already satisfied: tokenizers!=0.11.3,<0.14,>=0.11.1 in c:\\users\\t\\anaconda3\\lib\\site-packages (from transformers>=4.4.0->happytransformer) (0.13.2)\n",
      "Requirement already satisfied: filelock in c:\\users\\t\\anaconda3\\lib\\site-packages (from transformers>=4.4.0->happytransformer) (3.6.0)\n",
      "Requirement already satisfied: regex!=2019.12.17 in c:\\users\\t\\anaconda3\\lib\\site-packages (from transformers>=4.4.0->happytransformer) (2022.7.9)\n",
      "Requirement already satisfied: pyparsing!=3.0.5,>=2.0.2 in c:\\users\\t\\anaconda3\\lib\\site-packages (from packaging->datasets>=1.6.0->happytransformer) (3.0.9)\n",
      "Requirement already satisfied: charset-normalizer<3,>=2 in c:\\users\\t\\anaconda3\\lib\\site-packages (from requests>=2.19.0->datasets>=1.6.0->happytransformer) (2.0.4)\n",
      "Requirement already satisfied: certifi>=2017.4.17 in c:\\users\\t\\anaconda3\\lib\\site-packages (from requests>=2.19.0->datasets>=1.6.0->happytransformer) (2022.9.14)\n",
      "Requirement already satisfied: urllib3<1.27,>=1.21.1 in c:\\users\\t\\anaconda3\\lib\\site-packages (from requests>=2.19.0->datasets>=1.6.0->happytransformer) (1.26.11)\n",
      "Requirement already satisfied: idna<4,>=2.5 in c:\\users\\t\\anaconda3\\lib\\site-packages (from requests>=2.19.0->datasets>=1.6.0->happytransformer) (3.3)\n",
      "Requirement already satisfied: aiosignal>=1.1.2 in c:\\users\\t\\anaconda3\\lib\\site-packages (from aiohttp->datasets>=1.6.0->happytransformer) (1.3.1)\n",
      "Requirement already satisfied: async-timeout<5.0,>=4.0.0a3 in c:\\users\\t\\anaconda3\\lib\\site-packages (from aiohttp->datasets>=1.6.0->happytransformer) (4.0.2)\n",
      "Requirement already satisfied: multidict<7.0,>=4.5 in c:\\users\\t\\anaconda3\\lib\\site-packages (from aiohttp->datasets>=1.6.0->happytransformer) (6.0.4)\n",
      "Requirement already satisfied: yarl<2.0,>=1.0 in c:\\users\\t\\anaconda3\\lib\\site-packages (from aiohttp->datasets>=1.6.0->happytransformer) (1.8.2)\n",
      "Requirement already satisfied: frozenlist>=1.1.1 in c:\\users\\t\\anaconda3\\lib\\site-packages (from aiohttp->datasets>=1.6.0->happytransformer) (1.3.3)\n",
      "Requirement already satisfied: attrs>=17.3.0 in c:\\users\\t\\anaconda3\\lib\\site-packages (from aiohttp->datasets>=1.6.0->happytransformer) (21.4.0)\n",
      "Requirement already satisfied: python-dateutil>=2.8.1 in c:\\users\\t\\anaconda3\\lib\\site-packages (from pandas->datasets>=1.6.0->happytransformer) (2.8.2)\n",
      "Requirement already satisfied: pytz>=2020.1 in c:\\users\\t\\anaconda3\\lib\\site-packages (from pandas->datasets>=1.6.0->happytransformer) (2022.1)\n",
      "Requirement already satisfied: six>=1.5 in c:\\users\\t\\anaconda3\\lib\\site-packages (from python-dateutil>=2.8.1->pandas->datasets>=1.6.0->happytransformer) (1.16.0)\n",
      "Note: you may need to restart the kernel to use updated packages.\n"
     ]
    }
   ],
   "source": [
    "pip install happytransformer"
   ]
  },
  {
   "cell_type": "code",
   "execution_count": 2,
   "id": "7915cf80",
   "metadata": {},
   "outputs": [
    {
     "name": "stdout",
     "output_type": "stream",
     "text": [
      "Requirement already satisfied: sacremoses in c:\\users\\t\\anaconda3\\lib\\site-packages (0.0.53)\n",
      "Requirement already satisfied: tqdm in c:\\users\\t\\anaconda3\\lib\\site-packages (from sacremoses) (4.64.1)\n",
      "Requirement already satisfied: joblib in c:\\users\\t\\anaconda3\\lib\\site-packages (from sacremoses) (1.1.0)\n",
      "Requirement already satisfied: click in c:\\users\\t\\anaconda3\\lib\\site-packages (from sacremoses) (8.0.4)\n",
      "Requirement already satisfied: regex in c:\\users\\t\\anaconda3\\lib\\site-packages (from sacremoses) (2022.7.9)\n",
      "Requirement already satisfied: six in c:\\users\\t\\anaconda3\\lib\\site-packages (from sacremoses) (1.16.0)\n",
      "Requirement already satisfied: colorama in c:\\users\\t\\anaconda3\\lib\\site-packages (from click->sacremoses) (0.4.5)\n",
      "Note: you may need to restart the kernel to use updated packages.\n"
     ]
    }
   ],
   "source": [
    "pip install sacremoses"
   ]
  },
  {
   "cell_type": "code",
   "execution_count": 3,
   "id": "243243a2",
   "metadata": {},
   "outputs": [],
   "source": [
    "from  happytransformer import HappyTextToText"
   ]
  },
  {
   "cell_type": "code",
   "execution_count": 4,
   "id": "75a80246",
   "metadata": {},
   "outputs": [
    {
     "data": {
      "application/vnd.jupyter.widget-view+json": {
       "model_id": "40973d369826413297ab8a978639dcdc",
       "version_major": 2,
       "version_minor": 0
      },
      "text/plain": [
       "Downloading (…)lve/main/config.json:   0%|          | 0.00/1.38k [00:00<?, ?B/s]"
      ]
     },
     "metadata": {},
     "output_type": "display_data"
    },
    {
     "data": {
      "application/vnd.jupyter.widget-view+json": {
       "model_id": "6b39368b06d941ad84f0aec3eb476d6b",
       "version_major": 2,
       "version_minor": 0
      },
      "text/plain": [
       "Downloading pytorch_model.bin:   0%|          | 0.00/300M [00:00<?, ?B/s]"
      ]
     },
     "metadata": {},
     "output_type": "display_data"
    },
    {
     "data": {
      "application/vnd.jupyter.widget-view+json": {
       "model_id": "fa00bc330ce74a04a87c5a8170bda086",
       "version_major": 2,
       "version_minor": 0
      },
      "text/plain": [
       "Downloading (…)neration_config.json:   0%|          | 0.00/293 [00:00<?, ?B/s]"
      ]
     },
     "metadata": {},
     "output_type": "display_data"
    },
    {
     "data": {
      "application/vnd.jupyter.widget-view+json": {
       "model_id": "e69af3b0cdd241fa811e74095e6c0c39",
       "version_major": 2,
       "version_minor": 0
      },
      "text/plain": [
       "Downloading (…)okenizer_config.json:   0%|          | 0.00/42.0 [00:00<?, ?B/s]"
      ]
     },
     "metadata": {},
     "output_type": "display_data"
    },
    {
     "data": {
      "application/vnd.jupyter.widget-view+json": {
       "model_id": "8a06c4d97b364ccabccecf0570090378",
       "version_major": 2,
       "version_minor": 0
      },
      "text/plain": [
       "Downloading (…)olve/main/source.spm:   0%|          | 0.00/821k [00:00<?, ?B/s]"
      ]
     },
     "metadata": {},
     "output_type": "display_data"
    },
    {
     "data": {
      "application/vnd.jupyter.widget-view+json": {
       "model_id": "b3158faef39043ebb8e4369c42e9b892",
       "version_major": 2,
       "version_minor": 0
      },
      "text/plain": [
       "Downloading (…)olve/main/target.spm:   0%|          | 0.00/813k [00:00<?, ?B/s]"
      ]
     },
     "metadata": {},
     "output_type": "display_data"
    },
    {
     "data": {
      "application/vnd.jupyter.widget-view+json": {
       "model_id": "e0185a6ae6094178ab62b4992d924e0e",
       "version_major": 2,
       "version_minor": 0
      },
      "text/plain": [
       "Downloading (…)olve/main/vocab.json:   0%|          | 0.00/1.33M [00:00<?, ?B/s]"
      ]
     },
     "metadata": {},
     "output_type": "display_data"
    },
    {
     "name": "stderr",
     "output_type": "stream",
     "text": [
      "03/10/2023 12:31:50 - INFO - happytransformer.happy_transformer -   Using model: cpu\n"
     ]
    }
   ],
   "source": [
    "happy_tt = HappyTextToText(\"MARIAN\",\"Helsinki-NLP/opus-mt-en-sw\")"
   ]
  },
  {
   "cell_type": "code",
   "execution_count": 21,
   "id": "6ad8ec54",
   "metadata": {},
   "outputs": [],
   "source": [
    "from  happytransformer import TTSettings"
   ]
  },
  {
   "cell_type": "code",
   "execution_count": 22,
   "id": "89e6d8eb",
   "metadata": {},
   "outputs": [],
   "source": [
    "args = TTSettings(min_length=2)"
   ]
  },
  {
   "cell_type": "code",
   "execution_count": 29,
   "id": "2facdf75",
   "metadata": {},
   "outputs": [
    {
     "name": "stdout",
     "output_type": "stream",
     "text": [
      "Enter your sentence to be translated : Lions are apex predators and are considered the kings of the jungle. They can run up to 50 miles per hour, jump over 36 feet in a single leap, and have a powerful bite that can crush bones and take down large prey.\n",
      "Your translation is :  Simba ni wanyama hatari sana nao huonwa kuwa wafalme wa msituni, wanaweza kukimbia umbali wa kilometa 30 hivi kwa saa, kuruka umbali wa zaidi ya futi 36, na kuwa na umo lenye nguvu sana ambalo linaweza kuvunja mifupa na kuua windo kubwa.\n"
     ]
    }
   ],
   "source": [
    "user = input(\"Enter your sentence to be translated : \") \n",
    "result = happy_tt.generate_text(user ,args = args)\n",
    "print(\"Your translation is : \",result.text)"
   ]
  },
  {
   "cell_type": "code",
   "execution_count": null,
   "id": "c03bb1e0",
   "metadata": {},
   "outputs": [],
   "source": []
  }
 ],
 "metadata": {
  "kernelspec": {
   "display_name": "Python 3 (ipykernel)",
   "language": "python",
   "name": "python3"
  },
  "language_info": {
   "codemirror_mode": {
    "name": "ipython",
    "version": 3
   },
   "file_extension": ".py",
   "mimetype": "text/x-python",
   "name": "python",
   "nbconvert_exporter": "python",
   "pygments_lexer": "ipython3",
   "version": "3.9.13"
  }
 },
 "nbformat": 4,
 "nbformat_minor": 5
}

{
 "cells": [
  {
   "cell_type": "code",
   "execution_count": 1,
   "id": "48acb1f0",
   "metadata": {},
   "outputs": [],
   "source": [
    "#importing modules\n",
    "from tkinter import *\n",
    "from translate import Translator"
   ]
  },
  {
   "cell_type": "code",
   "execution_count": 2,
   "id": "280256cb",
   "metadata": {},
   "outputs": [],
   "source": [
    "# initializing window\n",
    "Screen = Tk()\n",
    "Screen.title(\"Language Translator by Trenton Mwangi\")\n",
    "\n",
    "InputLanguageChoice = StringVar()\n",
    "TranslateLanguageChoice = StringVar()\n"
   ]
  },
  {
   "cell_type": "code",
   "execution_count": 3,
   "id": "54eb1c34",
   "metadata": {},
   "outputs": [],
   "source": [
    "#tuple for choosing languages\n",
    "LanguageChoices = {'Swahili','English','French','German','Spanish'}\n",
    "InputLanguageChoice.set('English')\n",
    "TranslateLanguageChoice.set('Swahili')\n",
    "\n",
    "def Translate():\n",
    "    translator = Translator(from_lang= InputLanguageChoice.get(),to_lang=TranslateLanguageChoice.get())\n",
    "    Translation = translator.translate(TextVar.get())\n",
    "    OutputVar.set(Translation)"
   ]
  },
  {
   "cell_type": "code",
   "execution_count": 4,
   "id": "8d8cdfd4",
   "metadata": {},
   "outputs": [],
   "source": [
    "#choice for input language\n",
    "InputLanguageChoiceMenu = OptionMenu(Screen,InputLanguageChoice,*LanguageChoices)\n",
    "Label(Screen,text=\"Choose a Language\").grid(row=0,column=1)\n",
    "InputLanguageChoiceMenu.grid(row=1,column=1)"
   ]
  },
  {
   "cell_type": "code",
   "execution_count": 5,
   "id": "fb4ac3bd",
   "metadata": {},
   "outputs": [],
   "source": [
    "#choice in which the language is to be translated\n",
    "NewLanguageChoiceMenu = OptionMenu(Screen,TranslateLanguageChoice,*LanguageChoices)\n",
    "Label(Screen,text=\"Translated Language\").grid(row=0,column=2)\n",
    "NewLanguageChoiceMenu.grid(row=1,column=2)\n",
    "\n",
    "Label(Screen,text=\"Enter Text\").grid(row=2,column =0)\n",
    "TextVar = StringVar()\n",
    "TextBox = Entry(Screen,textvariable=TextVar).grid(row=2,column = 1)\n",
    "\n",
    "Label(Screen,text=\"Output Text\").grid(row=2,column =2)\n",
    "OutputVar = StringVar()\n",
    "TextBox = Entry(Screen,textvariable=OutputVar).grid(row=2,column = 3)\n"
   ]
  },
  {
   "cell_type": "code",
   "execution_count": 6,
   "id": "c3fea4a8",
   "metadata": {},
   "outputs": [],
   "source": [
    "#Button for calling function\n",
    "B = Button(Screen,text=\"Translate\",command=Translate, relief = GROOVE).grid(row=3,column=1,columnspan = 3)\n",
    "\n",
    "mainloop()\n"
   ]
  },
  {
   "cell_type": "code",
   "execution_count": null,
   "id": "b3e04b53",
   "metadata": {},
   "outputs": [],
   "source": []
  }
 ],
 "metadata": {
  "kernelspec": {
   "display_name": "Python 3 (ipykernel)",
   "language": "python",
   "name": "python3"
  },
  "language_info": {
   "codemirror_mode": {
    "name": "ipython",
    "version": 3
   },
   "file_extension": ".py",
   "mimetype": "text/x-python",
   "name": "python",
   "nbconvert_exporter": "python",
   "pygments_lexer": "ipython3",
   "version": "3.9.13"
  }
 },
 "nbformat": 4,
 "nbformat_minor": 5
}
